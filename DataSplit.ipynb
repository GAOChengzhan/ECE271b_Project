{
 "cells": [
  {
   "cell_type": "code",
   "execution_count": null,
   "metadata": {},
   "outputs": [],
   "source": [
    "import os\n",
    "import cv2\n",
    "import shutil\n",
    "from PIL import Image\n",
    "from tqdm import tqdm\n",
    "from sklearn.model_selection import train_test_split\n",
    "# Paths\n",
    "IMAGE_PATH = \"/home/gchengzhan/private/SemSeg/Dataset/dataset/semantic_drone_dataset/original_images/\"\n",
    "TARGET_PATH = \"/home/gchengzhan/private/SemSeg/Dataset/dataset/semantic_drone_dataset/label_images_semantic/\"\n",
    "\n",
    "# Destination paths\n",
    "DEST_PATH = \"/home/gchengzhan/private/SemSeg/Dataset/dataset/semantic_drone_dataset/\"\n",
    "TRAIN_IMG_PATH = os.path.join(DEST_PATH, \"train/images\")\n",
    "TRAIN_MASK_PATH = os.path.join(DEST_PATH, \"train/masks\")\n",
    "VAL_IMG_PATH = os.path.join(DEST_PATH, \"val/images\")\n",
    "VAL_MASK_PATH = os.path.join(DEST_PATH, \"val/masks\")\n",
    "TEST_IMG_PATH = os.path.join(DEST_PATH, \"test/images\")\n",
    "TEST_MASK_PATH = os.path.join(DEST_PATH, \"test/masks\")\n",
    "\n",
    "def copy_and_resize_files(files, src_img, src_mask, dest_img, dest_mask, new_size=(608, 416)):\n",
    "    for file in tqdm(files):\n",
    "        # Resize and save image\n",
    "        img_path = os.path.join(src_img, file)\n",
    "        img = Image.open(img_path)\n",
    "        img_resized = img.resize(new_size, Image.ANTIALIAS)\n",
    "        img_resized.save(os.path.join(dest_img, file))\n",
    "\n",
    "        # Assuming mask file names are identical to image file names, but with .png extension\n",
    "        mask_file = os.path.splitext(file)[0] + '.png'\n",
    "        mask_path = os.path.join(src_mask, mask_file)\n",
    "        mask = Image.open(mask_path)\n",
    "        mask_resized = mask.resize(new_size, Image.NEAREST)  # Use NEAREST for masks to avoid introducing new classes\n",
    "        mask_resized.save(os.path.join(dest_mask, mask_file))\n",
    "\n",
    "# Create directories\n",
    "for path in [TRAIN_IMG_PATH, TRAIN_MASK_PATH, VAL_IMG_PATH, VAL_MASK_PATH, TEST_IMG_PATH, TEST_MASK_PATH]:\n",
    "    os.makedirs(path, exist_ok=True)\n",
    "\n",
    "# Get all file names from the image directory\n",
    "all_files = os.listdir(IMAGE_PATH)\n",
    "files = [f for f in all_files if os.path.isfile(os.path.join(IMAGE_PATH, f))]\n",
    "\n",
    "# Split files into training, validation, and test sets\n",
    "train_files, test_files = train_test_split(files, test_size=0.2, random_state=42)  \n",
    "val_files, test_files = train_test_split(test_files, test_size=0.5, random_state=42)  \n",
    "\n",
    "# Use the modified function to copy and resize files to their respective directories\n",
    "copy_and_resize_files(train_files, IMAGE_PATH, TARGET_PATH, TRAIN_IMG_PATH, TRAIN_MASK_PATH)\n",
    "copy_and_resize_files(val_files, IMAGE_PATH, TARGET_PATH, VAL_IMG_PATH, VAL_MASK_PATH)\n",
    "copy_and_resize_files(test_files, IMAGE_PATH, TARGET_PATH, TEST_IMG_PATH, TEST_MASK_PATH)"
   ]
  }
 ],
 "metadata": {
  "language_info": {
   "name": "python"
  }
 },
 "nbformat": 4,
 "nbformat_minor": 2
}
